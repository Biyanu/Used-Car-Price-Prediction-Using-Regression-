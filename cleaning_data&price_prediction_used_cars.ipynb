{
 "cells": [
  {
   "cell_type": "code",
   "execution_count": 140,
   "id": "15400a74-1ed3-42e2-88d6-30cb0e48a0f8",
   "metadata": {},
   "outputs": [],
   "source": [
    "#Importing libraries \n",
    "import pandas as pd\n",
    "import numpy as np\n",
    "from sklearn.linear_model import LinearRegression\n",
    "from sklearn.metrics import mean_squared_error, r2_score\n",
    "import matplotlib.pyplot as plt\n",
    "from sklearn.model_selection import train_test_split\n",
    "from sklearn.compose import ColumnTransformer\n",
    "from sklearn.preprocessing import StandardScaler, OneHotEncoder\n",
    "from sklearn.linear_model import LinearRegression\n",
    "from sklearn.pipeline import Pipeline\n",
    "from sklearn.metrics import mean_squared_error\n",
    "from sklearn.model_selection import cross_val_score"
   ]
  },
  {
   "cell_type": "code",
   "execution_count": 141,
   "id": "2033df0d-8350-4b24-8c0f-cae21caad100",
   "metadata": {},
   "outputs": [],
   "source": [
    "CARS = pd.read_csv(r\"usedcars.csv\")"
   ]
  },
  {
   "cell_type": "code",
   "execution_count": 142,
   "id": "d4191e85-98ac-449b-afa7-52d5b202faab",
   "metadata": {},
   "outputs": [
    {
     "data": {
      "text/html": [
       "<div>\n",
       "<style scoped>\n",
       "    .dataframe tbody tr th:only-of-type {\n",
       "        vertical-align: middle;\n",
       "    }\n",
       "\n",
       "    .dataframe tbody tr th {\n",
       "        vertical-align: top;\n",
       "    }\n",
       "\n",
       "    .dataframe thead th {\n",
       "        text-align: right;\n",
       "    }\n",
       "</style>\n",
       "<table border=\"1\" class=\"dataframe\">\n",
       "  <thead>\n",
       "    <tr style=\"text-align: right;\">\n",
       "      <th></th>\n",
       "      <th>title</th>\n",
       "      <th>price_in_aed</th>\n",
       "      <th>kilometers</th>\n",
       "      <th>body_condition</th>\n",
       "      <th>mechanical_condition</th>\n",
       "      <th>seller_type</th>\n",
       "      <th>body_type</th>\n",
       "      <th>no_of_cylinders</th>\n",
       "      <th>transmission_type</th>\n",
       "      <th>regional_specs</th>\n",
       "      <th>horsepower</th>\n",
       "      <th>fuel_type</th>\n",
       "      <th>steering_side</th>\n",
       "      <th>year</th>\n",
       "      <th>color</th>\n",
       "      <th>emirate</th>\n",
       "      <th>motors_trim</th>\n",
       "      <th>company</th>\n",
       "      <th>model</th>\n",
       "      <th>date_posted</th>\n",
       "    </tr>\n",
       "  </thead>\n",
       "  <tbody>\n",
       "    <tr>\n",
       "      <th>0</th>\n",
       "      <td>MITSUBISHI PAJERO 3.5L / 2013</td>\n",
       "      <td>26000</td>\n",
       "      <td>167390</td>\n",
       "      <td>Perfect inside and out</td>\n",
       "      <td>Perfect inside and out</td>\n",
       "      <td>Dealer</td>\n",
       "      <td>SUV</td>\n",
       "      <td>6</td>\n",
       "      <td>Automatic Transmission</td>\n",
       "      <td>GCC Specs</td>\n",
       "      <td>Unknown</td>\n",
       "      <td>Gasoline</td>\n",
       "      <td>Left Hand Side</td>\n",
       "      <td>2013.0</td>\n",
       "      <td>Silver</td>\n",
       "      <td>Dubai</td>\n",
       "      <td>GLS</td>\n",
       "      <td>mitsubishi</td>\n",
       "      <td>pajero</td>\n",
       "      <td>13/05/2022</td>\n",
       "    </tr>\n",
       "    <tr>\n",
       "      <th>1</th>\n",
       "      <td>chevrolet silverado</td>\n",
       "      <td>110000</td>\n",
       "      <td>39000</td>\n",
       "      <td>Perfect inside and out</td>\n",
       "      <td>Perfect inside and out</td>\n",
       "      <td>Dealer</td>\n",
       "      <td>SUV</td>\n",
       "      <td>8</td>\n",
       "      <td>Automatic Transmission</td>\n",
       "      <td>North American Specs</td>\n",
       "      <td>400to500 HP</td>\n",
       "      <td>Gasoline</td>\n",
       "      <td>Left Hand Side</td>\n",
       "      <td>2018.0</td>\n",
       "      <td>White</td>\n",
       "      <td>Sharjah</td>\n",
       "      <td>1500 High Country</td>\n",
       "      <td>chevrolet</td>\n",
       "      <td>silverado</td>\n",
       "      <td>14/01/2022</td>\n",
       "    </tr>\n",
       "    <tr>\n",
       "      <th>2</th>\n",
       "      <td>MERCEDES-BENZ E300 - 2014 - GCC SPEC - FULL OP...</td>\n",
       "      <td>78000</td>\n",
       "      <td>200000</td>\n",
       "      <td>Perfect inside and out</td>\n",
       "      <td>Perfect inside and out</td>\n",
       "      <td>Dealer</td>\n",
       "      <td>Sedan</td>\n",
       "      <td>6</td>\n",
       "      <td>Automatic Transmission</td>\n",
       "      <td>GCC Specs</td>\n",
       "      <td>400to500 HP</td>\n",
       "      <td>Gasoline</td>\n",
       "      <td>Left Hand Side</td>\n",
       "      <td>2014.0</td>\n",
       "      <td>Blue</td>\n",
       "      <td>Sharjah</td>\n",
       "      <td>E 300</td>\n",
       "      <td>mercedes-benz</td>\n",
       "      <td>e-class</td>\n",
       "      <td>5/5/22</td>\n",
       "    </tr>\n",
       "    <tr>\n",
       "      <th>3</th>\n",
       "      <td>WARRANTY UNTIL APR 2023 || Ferrari 488 Spider ...</td>\n",
       "      <td>899000</td>\n",
       "      <td>27000</td>\n",
       "      <td>Perfect inside and out</td>\n",
       "      <td>Perfect inside and out</td>\n",
       "      <td>Dealer</td>\n",
       "      <td>Hard Top Convertible</td>\n",
       "      <td>8</td>\n",
       "      <td>Automatic Transmission</td>\n",
       "      <td>GCC Specs</td>\n",
       "      <td>600to700 HP</td>\n",
       "      <td>Gasoline</td>\n",
       "      <td>Left Hand Side</td>\n",
       "      <td>2018.0</td>\n",
       "      <td>Red</td>\n",
       "      <td>Dubai</td>\n",
       "      <td>Standard</td>\n",
       "      <td>ferrari</td>\n",
       "      <td>488-spider</td>\n",
       "      <td>30/04/2022</td>\n",
       "    </tr>\n",
       "    <tr>\n",
       "      <th>4</th>\n",
       "      <td>USED RENAULT DOKKER 2020</td>\n",
       "      <td>33000</td>\n",
       "      <td>69000</td>\n",
       "      <td>Perfect inside and out</td>\n",
       "      <td>Perfect inside and out</td>\n",
       "      <td>Owner</td>\n",
       "      <td>Wagon</td>\n",
       "      <td>4</td>\n",
       "      <td>Manual Transmission</td>\n",
       "      <td>GCC Specs</td>\n",
       "      <td>Less than 150 HP</td>\n",
       "      <td>Gasoline</td>\n",
       "      <td>Left Hand Side</td>\n",
       "      <td>2020.0</td>\n",
       "      <td>White</td>\n",
       "      <td>Dubai</td>\n",
       "      <td>Standard</td>\n",
       "      <td>renault</td>\n",
       "      <td>dokker</td>\n",
       "      <td>13/05/2022</td>\n",
       "    </tr>\n",
       "  </tbody>\n",
       "</table>\n",
       "</div>"
      ],
      "text/plain": [
       "                                               title  price_in_aed  \\\n",
       "0                      MITSUBISHI PAJERO 3.5L / 2013         26000   \n",
       "1                                chevrolet silverado        110000   \n",
       "2  MERCEDES-BENZ E300 - 2014 - GCC SPEC - FULL OP...         78000   \n",
       "3  WARRANTY UNTIL APR 2023 || Ferrari 488 Spider ...        899000   \n",
       "4                           USED RENAULT DOKKER 2020         33000   \n",
       "\n",
       "   kilometers          body_condition    mechanical_condition seller_type  \\\n",
       "0      167390  Perfect inside and out  Perfect inside and out      Dealer   \n",
       "1       39000  Perfect inside and out  Perfect inside and out      Dealer   \n",
       "2      200000  Perfect inside and out  Perfect inside and out      Dealer   \n",
       "3       27000  Perfect inside and out  Perfect inside and out      Dealer   \n",
       "4       69000  Perfect inside and out  Perfect inside and out       Owner   \n",
       "\n",
       "              body_type  no_of_cylinders       transmission_type  \\\n",
       "0                   SUV                6  Automatic Transmission   \n",
       "1                   SUV                8  Automatic Transmission   \n",
       "2                 Sedan                6  Automatic Transmission   \n",
       "3  Hard Top Convertible                8  Automatic Transmission   \n",
       "4                 Wagon                4     Manual Transmission   \n",
       "\n",
       "         regional_specs        horsepower fuel_type   steering_side    year  \\\n",
       "0             GCC Specs           Unknown  Gasoline  Left Hand Side  2013.0   \n",
       "1  North American Specs       400to500 HP  Gasoline  Left Hand Side  2018.0   \n",
       "2             GCC Specs       400to500 HP  Gasoline  Left Hand Side  2014.0   \n",
       "3             GCC Specs       600to700 HP  Gasoline  Left Hand Side  2018.0   \n",
       "4             GCC Specs  Less than 150 HP  Gasoline  Left Hand Side  2020.0   \n",
       "\n",
       "    color   emirate        motors_trim        company       model date_posted  \n",
       "0  Silver     Dubai                GLS     mitsubishi      pajero  13/05/2022  \n",
       "1   White   Sharjah  1500 High Country      chevrolet   silverado  14/01/2022  \n",
       "2    Blue   Sharjah              E 300  mercedes-benz     e-class      5/5/22  \n",
       "3     Red     Dubai           Standard        ferrari  488-spider  30/04/2022  \n",
       "4   White     Dubai           Standard        renault      dokker  13/05/2022  "
      ]
     },
     "execution_count": 142,
     "metadata": {},
     "output_type": "execute_result"
    }
   ],
   "source": [
    "CARS.head()"
   ]
  },
  {
   "cell_type": "code",
   "execution_count": 143,
   "id": "ae7fd48e-06a2-4b12-8996-197422f010ed",
   "metadata": {},
   "outputs": [
    {
     "data": {
      "text/plain": [
       "(9970, 20)"
      ]
     },
     "execution_count": 143,
     "metadata": {},
     "output_type": "execute_result"
    }
   ],
   "source": [
    "CARS.shape"
   ]
  },
  {
   "cell_type": "code",
   "execution_count": 144,
   "id": "c1a3505e-2a09-481d-aac0-4d238dc8ab61",
   "metadata": {},
   "outputs": [],
   "source": [
    "CARS = CARS.drop(columns=\"title\")"
   ]
  },
  {
   "cell_type": "markdown",
   "id": "4d8980ce-65b8-426a-b9f5-018e5c33d343",
   "metadata": {},
   "source": [
    "Changing the AED (currency of the United Arab Emirates) to USD "
   ]
  },
  {
   "cell_type": "code",
   "execution_count": 146,
   "id": "f875523c-8ccd-4e48-bb3d-3ed4bad43deb",
   "metadata": {},
   "outputs": [],
   "source": [
    "CARS = CARS.rename(columns={'price_in_aed': 'price'})\n",
    "CARS['price'] = CARS['price'] * 0.27"
   ]
  },
  {
   "cell_type": "code",
   "execution_count": 147,
   "id": "61e204d9-7128-485d-a25a-55aca55bf357",
   "metadata": {},
   "outputs": [
    {
     "data": {
      "image/png": "[encoded data removed]",
      "text/plain": [
       "<Figure size 640x480 with 1 Axes>"
      ]
     },
     "metadata": {},
     "output_type": "display_data"
    }
   ],
   "source": [
    "plt.hist(CARS['price'], bins=10, alpha=0.7, color='blue', edgecolor='black')\n",
    "plt.title('Histogram of price')\n",
    "plt.show()"
   ]
  },
  {
   "cell_type": "code",
   "execution_count": 148,
   "id": "453195f0-3e4b-4d8f-810f-8f3e07e9bdce",
   "metadata": {},
   "outputs": [],
   "source": [
    "CARS['log10price'] = np.log10(CARS['price'])\n",
    "CARS = CARS.drop(columns='price')"
   ]
  },
  {
   "cell_type": "code",
   "execution_count": 149,
   "id": "22c185be-f5b7-42b4-aef8-1b2e6c98935e",
   "metadata": {},
   "outputs": [
    {
     "data": {
      "image/png": "[encoded data removed]",
      "text/plain": [
       "<Figure size 640x480 with 1 Axes>"
      ]
     },
     "metadata": {},
     "output_type": "display_data"
    }
   ],
   "source": [
    "# The histogram of the log of price as the price is highly skewed \n",
    "plt.hist(CARS['log10price'], bins=10, alpha=0.7, color='green', edgecolor='black')\n",
    "plt.title('Histogram of log10(price)')\n",
    "plt.show()\n"
   ]
  },
  {
   "cell_type": "markdown",
   "id": "a0dd13a9-5f65-45ba-b775-11db19462e6c",
   "metadata": {},
   "source": [
    "**kilometers** - There's *clearly* a typo of 115000000. I'm going to guess \n",
    "they added an extra two 0s, so let's replace that value with the guess.  \n",
    "The distribution is *very* skewed, and many predictive models would prefer \n",
    "symmetric predictors (otherwise outliers can greatly influence the form of \n",
    "the model).  We can't just take the logarithm since there are 0s, but we can \n",
    "add one km to each, and then log them!  Let's do that, renaming the column to \n",
    "make it clear what we did, and then drop the original column.  @Kahoot3 - why \n",
    "add 1?\n"
   ]
  },
  {
   "cell_type": "code",
   "execution_count": 151,
   "id": "bae2cb53-8c4e-4aaf-b133-54638d1630fe",
   "metadata": {},
   "outputs": [
    {
     "name": "stdout",
     "output_type": "stream",
     "text": [
      "Index(['kilometers', 'body_condition', 'mechanical_condition', 'seller_type',\n",
      "       'body_type', 'no_of_cylinders', 'transmission_type', 'regional_specs',\n",
      "       'horsepower', 'fuel_type', 'steering_side', 'year', 'color', 'emirate',\n",
      "       'motors_trim', 'company', 'model', 'date_posted', 'log10price'],\n",
      "      dtype='object')\n"
     ]
    }
   ],
   "source": [
    "print(CARS.columns)"
   ]
  },
  {
   "cell_type": "code",
   "execution_count": 152,
   "id": "fd1899fe-1bca-4f03-a2c2-1f4d14e9d335",
   "metadata": {},
   "outputs": [
    {
     "data": {
      "text/plain": [
       "19"
      ]
     },
     "execution_count": 152,
     "metadata": {},
     "output_type": "execute_result"
    }
   ],
   "source": [
    "len(CARS.columns)"
   ]
  },
  {
   "cell_type": "code",
   "execution_count": 153,
   "id": "1a66da60-0edf-4ebc-bb36-95665950840a",
   "metadata": {},
   "outputs": [
    {
     "name": "stdout",
     "output_type": "stream",
     "text": [
      "count    9.970000e+03\n",
      "mean     9.894896e+04\n",
      "std      1.154300e+06\n",
      "min      0.000000e+00\n",
      "25%      2.314350e+04\n",
      "50%      7.600000e+04\n",
      "75%      1.330828e+05\n",
      "max      1.150000e+08\n",
      "Name: kilometers, dtype: float64\n"
     ]
    },
    {
     "data": {
      "image/png": "[encoded data removed]",
      "text/plain": [
       "<Figure size 640x480 with 1 Axes>"
      ]
     },
     "metadata": {},
     "output_type": "display_data"
    }
   ],
   "source": [
    "plt.hist(CARS['kilometers'])\n",
    "print(CARS['kilometers'].describe())\n",
    "CARS.loc[CARS['kilometers'] > 1e7, \n",
    "         'kilometers'] = CARS.loc[CARS['kilometers'] > 1e7,\n",
    "                                  'kilometers'] / 100\n"
   ]
  },
  {
   "cell_type": "markdown",
   "id": "b545efe4-cfac-49b0-8a0c-05916bdd7e50",
   "metadata": {},
   "source": [
    "From the above histogram we can see that \"kilometers\" is highly skewed, so we need to symmetrize that using log10 transformation"
   ]
  },
  {
   "cell_type": "code",
   "execution_count": 155,
   "id": "2182f81c-5af9-4d45-a19c-0f86ee6f6f8e",
   "metadata": {},
   "outputs": [],
   "source": [
    "# converting the kilometers to log10 of kilometers as the it highly skewed\n",
    "CARS['log10kilometers'] = np.log10(1 + CARS['kilometers'])  \n",
    "CARS = CARS.drop(columns=['kilometers'])                       \n"
   ]
  },
  {
   "cell_type": "code",
   "execution_count": 156,
   "id": "64c7901a-bda3-4cb0-9f99-d001944924d4",
   "metadata": {},
   "outputs": [
    {
     "data": {
      "image/png": "[encoded data removed]",
      "text/plain": [
       "<Figure size 640x480 with 1 Axes>"
      ]
     },
     "metadata": {},
     "output_type": "display_data"
    }
   ],
   "source": [
    "plt.hist(CARS['log10kilometers'])    \n",
    "plt.hist(np.log10(1+CARS['log10kilometers'])) \n",
    "plt.show() \n"
   ]
  },
  {
   "cell_type": "markdown",
   "id": "0285a8ca-6fbb-449c-88ab-e32ebcfad79f",
   "metadata": {},
   "source": [
    "**mechanical_condition**:   some of the levels are too rare to use in the model. \n",
    "Remember that we will be splitting the data into training and holdout, then in \n",
    "the training set using 5-fold cross validation to estimate generalization errors.\n",
    "Assuming a 75% - 25% training/holdout split, that gives about 7500 cars in training. \n",
    "Split 5 ways, each \"pseudo-training\" set during 5-fold cross-validation would have\n",
    "about 6000 cars in it, or about 60% of our full dataset.  I typically like to have \n",
    "at least 10 examples of a level in order to incorporate it into the model, so the \n",
    "minimum number of examples of each level in our full dataset should be at least\n",
    "10/.6 = 17 or so.  "
   ]
  },
  {
   "cell_type": "markdown",
   "id": "02c49b7a-3fbf-46ec-aba6-ae4905d37b2f",
   "metadata": {},
   "source": [
    "We'll need to combine the rarer levels!  Although combining the rare ones only gives \n",
    "12 instances in \"Other\", that's the best we can do unless went to go to a \"Perfect\" vs. \n",
    "\"Not Perfect\" condition split. "
   ]
  },
  {
   "cell_type": "code",
   "execution_count": 159,
   "id": "b053aef2-9cd3-4852-b401-d4e0f9833885",
   "metadata": {},
   "outputs": [
    {
     "name": "stdout",
     "output_type": "stream",
     "text": [
      "count                       9970\n",
      "unique                         5\n",
      "top       Perfect inside and out\n",
      "freq                        9822\n",
      "Name: mechanical_condition, dtype: object\n"
     ]
    }
   ],
   "source": [
    "print(CARS['mechanical_condition'].describe())"
   ]
  },
  {
   "cell_type": "code",
   "execution_count": 160,
   "id": "5c313b6a-da07-4603-a60b-3364018e26ed",
   "metadata": {},
   "outputs": [
    {
     "name": "stdout",
     "output_type": "stream",
     "text": [
      "mechanical_condition\n",
      "Perfect inside and out     9822\n",
      "Minor faults, all fixed     136\n",
      "Other                        12\n",
      "Name: count, dtype: int64\n"
     ]
    }
   ],
   "source": [
    "min_threshold = 17\n",
    "CARS['mechanical_condition'] = CARS['mechanical_condition'].apply(\n",
    "    lambda x: x if (CARS['mechanical_condition'].value_counts()[x] >= min_threshold) else 'Other'\n",
    ")\n",
    "print(CARS['mechanical_condition'].value_counts())"
   ]
  },
  {
   "cell_type": "code",
   "execution_count": 161,
   "id": "5762c6a3-7bb3-467c-8ef5-25ba607456fb",
   "metadata": {},
   "outputs": [
    {
     "name": "stdout",
     "output_type": "stream",
     "text": [
      "seller_type\n",
      "Dealer                            6762\n",
      "Owner                             2938\n",
      "Dealership/Certified Pre-Owned     270\n",
      "Name: count, dtype: int64\n"
     ]
    }
   ],
   "source": [
    "# **seller_type** and  **body_type**:  looks fine since all levels are well-represented\n",
    "print(CARS['seller_type'].value_counts())"
   ]
  },
  {
   "cell_type": "code",
   "execution_count": 162,
   "id": "565ed1ec-3a5b-480d-82ff-08f626847907",
   "metadata": {},
   "outputs": [
    {
     "name": "stdout",
     "output_type": "stream",
     "text": [
      "body_type\n",
      "SUV                     4566\n",
      "Sedan                   2748\n",
      "Coupe                    851\n",
      "Pick Up Truck            428\n",
      "Hatchback                344\n",
      "Sports Car               260\n",
      "Hard Top Convertible     162\n",
      "Van                      162\n",
      "Soft Top Convertible     142\n",
      "Crossover                114\n",
      "Other                    102\n",
      "Wagon                     66\n",
      "Utility Truck             25\n",
      "Name: count, dtype: int64\n"
     ]
    }
   ],
   "source": [
    "print(CARS['body_type'].value_counts())"
   ]
  },
  {
   "cell_type": "code",
   "execution_count": 163,
   "id": "76dbe40f-81e8-44cb-897c-10d116c327f8",
   "metadata": {},
   "outputs": [
    {
     "name": "stdout",
     "output_type": "stream",
     "text": [
      "no_of_cylinders\n",
      "6     3325\n",
      "4     3131\n",
      "8     2986\n",
      "12     366\n",
      "3       56\n",
      "10      53\n",
      "5       53\n",
      "Name: count, dtype: int64\n"
     ]
    }
   ],
   "source": [
    "# **no_of_cylinders**:  seems fine\n",
    "print(CARS['no_of_cylinders'].value_counts())"
   ]
  },
  {
   "cell_type": "code",
   "execution_count": 164,
   "id": "3547ca70-6d56-4984-931d-67455358da7d",
   "metadata": {},
   "outputs": [
    {
     "name": "stdout",
     "output_type": "stream",
     "text": [
      "count    9970.000000\n",
      "mean        6.190271\n",
      "std         1.969984\n",
      "min         3.000000\n",
      "25%         4.000000\n",
      "50%         6.000000\n",
      "75%         8.000000\n",
      "max        12.000000\n",
      "Name: no_of_cylinders, dtype: float64\n"
     ]
    }
   ],
   "source": [
    "print(CARS['no_of_cylinders'].describe())"
   ]
  },
  {
   "cell_type": "code",
   "execution_count": 165,
   "id": "23523e98-04fc-4ffb-88dd-cb94842bbd56",
   "metadata": {},
   "outputs": [
    {
     "name": "stdout",
     "output_type": "stream",
     "text": [
      "transmission_type\n",
      "Automatic Transmission    9581\n",
      "Manual Transmission        389\n",
      "Name: count, dtype: int64\n"
     ]
    }
   ],
   "source": [
    "# **transmission_type** and **regional_specs**:  seems fine - plenty of each level\n",
    "print(CARS['transmission_type'].value_counts()) "
   ]
  },
  {
   "cell_type": "code",
   "execution_count": 166,
   "id": "0f985c0a-890c-41e3-8082-8247311edda8",
   "metadata": {},
   "outputs": [
    {
     "name": "stdout",
     "output_type": "stream",
     "text": [
      "regional_specs\n",
      "GCC Specs               7601\n",
      "North American Specs    1147\n",
      "Other                    551\n",
      "European Specs           422\n",
      "Japanese Specs           249\n",
      "Name: count, dtype: int64\n"
     ]
    }
   ],
   "source": [
    "print(CARS['regional_specs'].value_counts())"
   ]
  },
  {
   "cell_type": "markdown",
   "id": "ebba378b-0513-4d2e-8752-f50a85919f37",
   "metadata": {},
   "source": [
    "**horsepower**:  Looks like it has been pre-cleaned and discretized\n",
    "into categories for us (makes sense since it is unknown for 814 \n",
    "cars).  There's enough representation in levels to proceed."
   ]
  },
  {
   "cell_type": "code",
   "execution_count": 168,
   "id": "4be314ec-5f1d-4a8d-a580-afacac1fd019",
   "metadata": {},
   "outputs": [
    {
     "name": "stdout",
     "output_type": "stream",
     "text": [
      "horsepower\n",
      "200to300 HP         2432\n",
      "300to400 HP         2208\n",
      "400to500 HP         1279\n",
      "150to200 HP         1222\n",
      "500to600 HP         1027\n",
      "Unknown              814\n",
      "Less than 150 HP     394\n",
      "600to700 HP          391\n",
      "700to800 HP          153\n",
      "800to900 HP           30\n",
      "900+ HP               20\n",
      "Name: count, dtype: int64\n"
     ]
    }
   ],
   "source": [
    "print(CARS['horsepower'].value_counts())"
   ]
  },
  {
   "cell_type": "code",
   "execution_count": 169,
   "id": "317ca817-84f7-420b-80ef-a8ecb4264cbe",
   "metadata": {},
   "outputs": [
    {
     "name": "stdout",
     "output_type": "stream",
     "text": [
      "fuel_type\n",
      "Gasoline    9695\n",
      "Diesel       167\n",
      "Electric      85\n",
      "Hybrid        23\n",
      "Name: count, dtype: int64\n"
     ]
    }
   ],
   "source": [
    "# **fuel_type**: Looks fine, plenty of each level\n",
    "print(CARS['fuel_type'].value_counts())"
   ]
  },
  {
   "cell_type": "markdown",
   "id": "e38d122b-3912-4f9b-9384-5a061734bfac",
   "metadata": {},
   "source": [
    "**steering_side**:  Challenging predictor. There's only 5 examples of Right Hand Side steering. Can we really flesh out the relationship between price and these 5 examples (only 4 of which will likely end up in the  training dataset).  My guess is no, so let's throw it out."
   ]
  },
  {
   "cell_type": "code",
   "execution_count": 171,
   "id": "88d997c9-a707-4672-b7a3-8966288a3d30",
   "metadata": {},
   "outputs": [
    {
     "name": "stdout",
     "output_type": "stream",
     "text": [
      "steering_side\n",
      "Left Hand Side     9965\n",
      "Right Hand Side       5\n",
      "Name: count, dtype: int64\n"
     ]
    },
    {
     "data": {
      "text/plain": [
       "18"
      ]
     },
     "execution_count": 171,
     "metadata": {},
     "output_type": "execute_result"
    }
   ],
   "source": [
    "print(CARS['steering_side'].value_counts())\n",
    "CARS = CARS.drop(columns=['steering_side'])   \n",
    "len(CARS.columns)\n"
   ]
  },
  {
   "cell_type": "markdown",
   "id": "b3a732b8-995c-4bb0-b38e-9ed06affe0ad",
   "metadata": {},
   "source": [
    "**year**  There's a LOT of NAs.  If we want to use this column as a predictor (and I think we should...older cars typically sell for less, but some of the older cars buck that tend), we need to either come up with a way to \"guess\" the year (not realistic, but we could replace it with the average year in the data) or we can discretize the year column and create a category for \"Unknown\". From the scatterplot, it almost looks like prices decrease going back in time until about 2003 or so...then for some reason older cars tend to sell for even more. However, there's not enough representation of early years to give them their own category. \n",
    "\n",
    "Let's try this two ways\n",
    "1)  Replace NAs with the average year\n",
    "2)  Discretize\n"
   ]
  },
  {
   "cell_type": "code",
   "execution_count": 173,
   "id": "2962949f-2403-44e0-a902-1885da0b2fb4",
   "metadata": {},
   "outputs": [
    {
     "data": {
      "text/plain": [
       "count    9000.000000\n",
       "mean     2015.626444\n",
       "std         4.735991\n",
       "min      1953.000000\n",
       "25%      2014.000000\n",
       "50%      2016.000000\n",
       "75%      2019.000000\n",
       "max      2021.000000\n",
       "Name: year, dtype: float64"
      ]
     },
     "execution_count": 173,
     "metadata": {},
     "output_type": "execute_result"
    }
   ],
   "source": [
    "# And let's remove the original year column.\n",
    "CARS[\"year\"].describe()"
   ]
  },
  {
   "cell_type": "code",
   "execution_count": 174,
   "id": "7cf16c2f-45d0-4273-b5ef-16df0943ed17",
   "metadata": {},
   "outputs": [
    {
     "data": {
      "text/plain": [
       "year\n",
       "2016.0    973\n",
       "2015.0    909\n",
       "2019.0    903\n",
       "2021.0    881\n",
       "2018.0    859\n",
       "2017.0    791\n",
       "2020.0    781\n",
       "2014.0    752\n",
       "2013.0    603\n",
       "2012.0    385\n",
       "2011.0    252\n",
       "2009.0    185\n",
       "2008.0    178\n",
       "2010.0    170\n",
       "2007.0    103\n",
       "2006.0     74\n",
       "2005.0     54\n",
       "2004.0     29\n",
       "2001.0     18\n",
       "2003.0     15\n",
       "2002.0     11\n",
       "2000.0     10\n",
       "1999.0      9\n",
       "1989.0      6\n",
       "1998.0      6\n",
       "1990.0      3\n",
       "1983.0      3\n",
       "1997.0      3\n",
       "1991.0      3\n",
       "1971.0      2\n",
       "1980.0      2\n",
       "1964.0      2\n",
       "1965.0      2\n",
       "1992.0      2\n",
       "1994.0      2\n",
       "1973.0      2\n",
       "1987.0      2\n",
       "1976.0      1\n",
       "1996.0      1\n",
       "1984.0      1\n",
       "1977.0      1\n",
       "1972.0      1\n",
       "1979.0      1\n",
       "1954.0      1\n",
       "1953.0      1\n",
       "1995.0      1\n",
       "1974.0      1\n",
       "1969.0      1\n",
       "1975.0      1\n",
       "1982.0      1\n",
       "1960.0      1\n",
       "1970.0      1\n",
       "Name: count, dtype: int64"
      ]
     },
     "execution_count": 174,
     "metadata": {},
     "output_type": "execute_result"
    }
   ],
   "source": [
    "CARS[\"year\"].value_counts()"
   ]
  },
  {
   "cell_type": "code",
   "execution_count": 175,
   "id": "5fdcfc0b-356b-4771-9e9a-8f7ebd0352e3",
   "metadata": {},
   "outputs": [
    {
     "name": "stdout",
     "output_type": "stream",
     "text": [
      "count    9970.000000\n",
      "mean     2015.626444\n",
      "std         4.499686\n",
      "min      1953.000000\n",
      "25%      2014.000000\n",
      "50%      2016.000000\n",
      "75%      2019.000000\n",
      "max      2021.000000\n",
      "Name: car_year1, dtype: float64\n"
     ]
    }
   ],
   "source": [
    "# Handle missing values in 'year' by replacing them with the mean\n",
    "CARS['car_year1'] = CARS['year'].fillna(CARS['year'].mean())\n",
    "# Summary statistics of 'car_year1'\n",
    "print(CARS['car_year1'].describe())\n"
   ]
  },
  {
   "cell_type": "code",
   "execution_count": 176,
   "id": "f977efdf-05e2-46af-bfe1-c960214eb571",
   "metadata": {},
   "outputs": [
    {
     "data": {
      "image/png": "[encoded data removed]",
      "text/plain": [
       "<Figure size 640x480 with 1 Axes>"
      ]
     },
     "metadata": {},
     "output_type": "display_data"
    }
   ],
   "source": [
    "# Plot log10price ~ year\n",
    "plt.scatter(CARS['year'], CARS['log10price'], alpha=0.7)\n",
    "plt.title('Log10 Price vs Year')\n",
    "plt.xlabel('Year')\n",
    "plt.ylabel('Log10 Price')\n",
    "plt.grid(True)\n",
    "plt.show()"
   ]
  },
  {
   "cell_type": "code",
   "execution_count": 177,
   "id": "f9cf221e-511f-493c-a83b-937c6ea31136",
   "metadata": {},
   "outputs": [],
   "source": [
    "bins = [1950, 1989, 1999, 2002, 2004] + list(range(2005, 2022))\n",
    "labels = [f\"{bins[i]}-{bins[i+1]}\" for i in range(len(bins) - 1)]"
   ]
  },
  {
   "cell_type": "code",
   "execution_count": 178,
   "id": "abd72917-7221-4b3b-9930-a0e4c4c3328e",
   "metadata": {},
   "outputs": [],
   "source": [
    "# Cut 'year' into bins and handle NaN values\n",
    "CARS['car_year2'] = pd.cut(CARS['year'], bins=bins, include_lowest=True, labels=labels)\n",
    "CARS['car_year2'] = CARS['car_year2'].cat.add_categories('Unknown').fillna('Unknown')\n"
   ]
  },
  {
   "cell_type": "code",
   "execution_count": 179,
   "id": "26fa9b68-43d8-4bc1-97cb-8c4cb7113db1",
   "metadata": {},
   "outputs": [
    {
     "name": "stdout",
     "output_type": "stream",
     "text": [
      "car_year2\n",
      "2015-2016    973\n",
      "Unknown      970\n",
      "2014-2015    909\n",
      "2018-2019    903\n",
      "2020-2021    881\n",
      "2017-2018    859\n",
      "2016-2017    791\n",
      "2019-2020    781\n",
      "2013-2014    752\n",
      "2012-2013    603\n",
      "2011-2012    385\n",
      "2010-2011    252\n",
      "2008-2009    185\n",
      "2007-2008    178\n",
      "2009-2010    170\n",
      "2006-2007    103\n",
      "2005-2006     74\n",
      "2004-2005     54\n",
      "2002-2004     44\n",
      "1999-2002     39\n",
      "1950-1989     34\n",
      "1989-1999     30\n",
      "Name: count, dtype: int64\n"
     ]
    }
   ],
   "source": [
    "\n",
    "# Summary of 'car_year2' (counts for each category)\n",
    "print(CARS['car_year2'].value_counts())\n"
   ]
  },
  {
   "cell_type": "markdown",
   "id": "f4b6eb9d-3fac-451b-bf50-ab853adbdbff",
   "metadata": {},
   "source": [
    "**color**:  There's too few Tan and Teal colors, and Purple is pretty rare too.  \n",
    "Let's combine those.  A quick way to do that is to combine all levels that appear \n",
    "25 times or fewer into \"Other\".  Notice there is an \"Other Color\" category we could \n",
    "combine these into, but we won't here"
   ]
  },
  {
   "cell_type": "code",
   "execution_count": 181,
   "id": "c5c1db63-f6af-4804-b245-f34cec6445a7",
   "metadata": {},
   "outputs": [
    {
     "data": {
      "text/plain": [
       "color\n",
       "White          3333\n",
       "Black          2096\n",
       "Grey           1325\n",
       "Silver          851\n",
       "Blue            712\n",
       "Red             600\n",
       "Gold            257\n",
       "Brown           237\n",
       "Green           142\n",
       "Orange           79\n",
       "Other Color      79\n",
       "Yellow           78\n",
       "Beige            73\n",
       "Burgundy         71\n",
       "Purple           24\n",
       "Teal              8\n",
       "Tan               5\n",
       "Name: count, dtype: int64"
      ]
     },
     "execution_count": 181,
     "metadata": {},
     "output_type": "execute_result"
    }
   ],
   "source": [
    "CARS['color'].value_counts()"
   ]
  },
  {
   "cell_type": "code",
   "execution_count": 182,
   "id": "8cad82db-96fa-4ab3-ba7a-6db90608cd7e",
   "metadata": {},
   "outputs": [],
   "source": [
    "# Apply the lumping logic directly using `map` and `value_counts`\n",
    "threshold = 25\n",
    "# color_counts = CARS['color'].value_counts()\n",
    "CARS['color'] = CARS['color'].map(lambda x: x if CARS['color'].value_counts()[x] >= threshold else 'Other')\n"
   ]
  },
  {
   "cell_type": "code",
   "execution_count": 183,
   "id": "a78fc54c-5f40-424b-88b5-8eccff106b1a",
   "metadata": {},
   "outputs": [
    {
     "data": {
      "text/plain": [
       "color\n",
       "White          3333\n",
       "Black          2096\n",
       "Grey           1325\n",
       "Silver          851\n",
       "Blue            712\n",
       "Red             600\n",
       "Gold            257\n",
       "Brown           237\n",
       "Green           142\n",
       "Other Color      79\n",
       "Orange           79\n",
       "Yellow           78\n",
       "Beige            73\n",
       "Burgundy         71\n",
       "Other            37\n",
       "Name: count, dtype: int64"
      ]
     },
     "execution_count": 183,
     "metadata": {},
     "output_type": "execute_result"
    }
   ],
   "source": [
    "CARS['color'].value_counts()"
   ]
  },
  {
   "cell_type": "markdown",
   "id": "1221f51a-867e-43a4-b6ea-1dec51102b0e",
   "metadata": {},
   "source": [
    "**emirate**:  Weird, it looks like most appear twice in the data.  Looking at the levels, we see extra spaces have been inserted. \n",
    "Let's remove all spaces (which will automatically combine like levels).  There's no enough instances of Fujeirah and UmmAlQawain to\n",
    "proceed, so let's combine (along with RasAlKhaimah).  Using a minimum threshold of 25 will do so nicely.  "
   ]
  },
  {
   "cell_type": "code",
   "execution_count": 185,
   "id": "fb3f0dfe-d42d-44f6-8abd-1bfa1ba0f407",
   "metadata": {},
   "outputs": [
    {
     "data": {
      "text/plain": [
       "emirate\n",
       " Dubai             7978\n",
       " Sharjah            953\n",
       " Abu Dhabi          710\n",
       " Ajman              139\n",
       "Abu Dhabi            53\n",
       " Al Ain              35\n",
       "Sharjah              34\n",
       "Dubai                21\n",
       " Ras Al Khaimah      17\n",
       "Ajman                 7\n",
       " Umm Al Qawain        6\n",
       "Al Ain                6\n",
       " Fujeirah             5\n",
       "Ras Al Khaimah        3\n",
       "Fujeirah              2\n",
       "Umm Al Qawain         1\n",
       "Name: count, dtype: int64"
      ]
     },
     "execution_count": 185,
     "metadata": {},
     "output_type": "execute_result"
    }
   ],
   "source": [
    "CARS['emirate'].value_counts()"
   ]
  },
  {
   "cell_type": "code",
   "execution_count": 186,
   "id": "61695d79-a719-4d9e-8907-3ec1aec4862b",
   "metadata": {},
   "outputs": [],
   "source": [
    "CARS['emirate'] = pd.Categorical(CARS['emirate'])"
   ]
  },
  {
   "cell_type": "code",
   "execution_count": 187,
   "id": "616ec537-3475-40c3-8321-49d2ac9adae7",
   "metadata": {},
   "outputs": [
    {
     "data": {
      "text/plain": [
       "Index([' Abu Dhabi', ' Ajman', ' Al Ain', ' Dubai', ' Fujeirah',\n",
       "       ' Ras Al Khaimah', ' Sharjah', ' Umm Al Qawain', 'Abu Dhabi', 'Ajman',\n",
       "       'Al Ain', 'Dubai', 'Fujeirah', 'Ras Al Khaimah', 'Sharjah',\n",
       "       'Umm Al Qawain'],\n",
       "      dtype='object')"
      ]
     },
     "execution_count": 187,
     "metadata": {},
     "output_type": "execute_result"
    }
   ],
   "source": [
    "CARS['emirate'].cat.categories "
   ]
  },
  {
   "cell_type": "code",
   "execution_count": 188,
   "id": "b675a35e-42fb-4116-b97a-846a182ec45e",
   "metadata": {},
   "outputs": [],
   "source": [
    "CARS['emirate'] = pd.Categorical(CARS['emirate'].str.replace(\" \", \"\", regex=False))"
   ]
  },
  {
   "cell_type": "code",
   "execution_count": 189,
   "id": "90f1b0ed-fa1e-457b-830d-bbbd4bdc9480",
   "metadata": {},
   "outputs": [
    {
     "data": {
      "text/plain": [
       "Index(['AbuDhabi', 'Ajman', 'AlAin', 'Dubai', 'Fujeirah', 'RasAlKhaimah',\n",
       "       'Sharjah', 'UmmAlQawain'],\n",
       "      dtype='object')"
      ]
     },
     "execution_count": 189,
     "metadata": {},
     "output_type": "execute_result"
    }
   ],
   "source": [
    "CARS['emirate'].cat.categories "
   ]
  },
  {
   "cell_type": "code",
   "execution_count": 190,
   "id": "d10c9a4d-4cd2-4ed8-b56e-b177f862ed96",
   "metadata": {},
   "outputs": [
    {
     "data": {
      "text/plain": [
       "emirate\n",
       "Dubai           7999\n",
       "Sharjah          987\n",
       "AbuDhabi         763\n",
       "Ajman            146\n",
       "AlAin             41\n",
       "RasAlKhaimah      20\n",
       "Fujeirah           7\n",
       "UmmAlQawain        7\n",
       "Name: count, dtype: int64"
      ]
     },
     "execution_count": 190,
     "metadata": {},
     "output_type": "execute_result"
    }
   ],
   "source": [
    "CARS['emirate'].value_counts()"
   ]
  },
  {
   "cell_type": "code",
   "execution_count": 191,
   "id": "33147f20-87bc-4e30-b7e2-bd50d3277666",
   "metadata": {},
   "outputs": [],
   "source": [
    "CARS['emirate'] = CARS['emirate'].map(lambda x: x if CARS['emirate'].value_counts()[x] >= 25 else 'Other')"
   ]
  },
  {
   "cell_type": "code",
   "execution_count": 192,
   "id": "8dc7f869-0983-40b6-9ee5-280e980efcf7",
   "metadata": {},
   "outputs": [
    {
     "data": {
      "text/plain": [
       "emirate\n",
       "Dubai       7999\n",
       "Sharjah      987\n",
       "AbuDhabi     763\n",
       "Ajman        146\n",
       "AlAin         41\n",
       "Other         34\n",
       "Name: count, dtype: int64"
      ]
     },
     "execution_count": 192,
     "metadata": {},
     "output_type": "execute_result"
    }
   ],
   "source": [
    "CARS['emirate'].value_counts()"
   ]
  },
  {
   "cell_type": "markdown",
   "id": "af617823-7102-4941-bb84-972c6706e274",
   "metadata": {},
   "source": [
    "**motors_trim:**  With 857 levels, this is a mess.  For linear regression, this is too many levels \n",
    "(including it in the model would require adding 856 indicator variables).  About the best we can do \n",
    "it look at the most frequent levels.  If it plays a really important role in the model, we can always \n",
    "go back and revisit. For now lets reduce it to the top 15 levels (Other being one of those)."
   ]
  },
  {
   "cell_type": "code",
   "execution_count": 194,
   "id": "2b510b0e-c2f9-430d-b3ff-9ed60722eab7",
   "metadata": {},
   "outputs": [
    {
     "name": "stdout",
     "output_type": "stream",
     "text": [
      "motors_trim\n",
      "Other         2175\n",
      "Standard       432\n",
      "SE             232\n",
      "S              227\n",
      "G 63 AMG       197\n",
      "              ... \n",
      "200              1\n",
      "M40i             1\n",
      "SLK 280          1\n",
      "CL 63 AMG        1\n",
      "2500HD LTZ       1\n",
      "Name: count, Length: 856, dtype: int64\n"
     ]
    }
   ],
   "source": [
    "print(CARS['motors_trim'].value_counts())"
   ]
  },
  {
   "cell_type": "code",
   "execution_count": 195,
   "id": "b73fa56f-a90b-48ee-aa9b-fde4e200a60b",
   "metadata": {},
   "outputs": [
    {
     "data": {
      "text/plain": [
       "count      9942\n",
       "unique      856\n",
       "top       Other\n",
       "freq       2175\n",
       "Name: motors_trim, dtype: object"
      ]
     },
     "execution_count": 195,
     "metadata": {},
     "output_type": "execute_result"
    }
   ],
   "source": [
    "CARS['motors_trim'].describe()"
   ]
  },
  {
   "cell_type": "code",
   "execution_count": 196,
   "id": "e6bb1e78-4fba-46b2-bed1-e7d3e956401e",
   "metadata": {},
   "outputs": [
    {
     "data": {
      "text/plain": [
       "28"
      ]
     },
     "execution_count": 196,
     "metadata": {},
     "output_type": "execute_result"
    }
   ],
   "source": [
    " CARS['motors_trim'].isna().sum()"
   ]
  },
  {
   "cell_type": "code",
   "execution_count": 197,
   "id": "88e63db3-ba0d-4aec-8da2-db5cd3bdb80b",
   "metadata": {},
   "outputs": [],
   "source": [
    "CARS['motors_trim'] = CARS['motors_trim'].fillna('Unknown')"
   ]
  },
  {
   "cell_type": "code",
   "execution_count": 198,
   "id": "22996878-4d60-4ed3-84d0-a6ebba535f09",
   "metadata": {},
   "outputs": [],
   "source": [
    "CARS['motors_trim'] = CARS['motors_trim'].map(lambda x: x if CARS['motors_trim'].value_counts()[x] >= 15 else 'Other')"
   ]
  },
  {
   "cell_type": "code",
   "execution_count": 199,
   "id": "1d0bddb4-f59e-46f6-99b5-72eb74ecd380",
   "metadata": {},
   "outputs": [
    {
     "name": "stdout",
     "output_type": "stream",
     "text": [
      "motors_trim\n",
      "Other             4637\n",
      "Standard           432\n",
      "SE                 232\n",
      "S                  227\n",
      "G 63 AMG           197\n",
      "                  ... \n",
      "GT3                 15\n",
      "TRX                 15\n",
      "Prestige            15\n",
      "320i                15\n",
      "GLC 250 4MATIC      15\n",
      "Name: count, Length: 118, dtype: int64\n"
     ]
    }
   ],
   "source": [
    "print(CARS['motors_trim'].value_counts())"
   ]
  },
  {
   "cell_type": "markdown",
   "id": "3f662a91-71ec-459c-8212-dd6c9e79dd60",
   "metadata": {},
   "source": [
    "**company:**  Same sort of issue.   For now lets reduce it to the top 20 levels (Other being one of those).  \n",
    "I'm choosing more categories here since the brand name (e.g. rolls-royce, ferrari, lexus) can play a huge role in price."
   ]
  },
  {
   "cell_type": "code",
   "execution_count": 201,
   "id": "7984c0c0-fc19-4a51-bf37-2bf039c45abb",
   "metadata": {},
   "outputs": [
    {
     "data": {
      "text/plain": [
       "company\n",
       "mercedes-benz    1506\n",
       "nissan            898\n",
       "toyota            868\n",
       "bmw               690\n",
       "land-rover        577\n",
       "                 ... \n",
       "jac                 1\n",
       "levc                1\n",
       "buick               1\n",
       "foton               1\n",
       "maxus               1\n",
       "Name: count, Length: 73, dtype: int64"
      ]
     },
     "execution_count": 201,
     "metadata": {},
     "output_type": "execute_result"
    }
   ],
   "source": [
    "CARS['company'].value_counts()"
   ]
  },
  {
   "cell_type": "code",
   "execution_count": 202,
   "id": "620447c1-482b-4756-8071-e75cef8c6a4a",
   "metadata": {},
   "outputs": [
    {
     "data": {
      "text/plain": [
       "count              9970\n",
       "unique               73\n",
       "top       mercedes-benz\n",
       "freq               1506\n",
       "Name: company, dtype: object"
      ]
     },
     "execution_count": 202,
     "metadata": {},
     "output_type": "execute_result"
    }
   ],
   "source": [
    "CARS['company'].describe()"
   ]
  },
  {
   "cell_type": "code",
   "execution_count": 203,
   "id": "be09efad-47d4-4f13-977d-8e35b5cee91e",
   "metadata": {},
   "outputs": [],
   "source": [
    "CARS['company'] = CARS['company'].map(lambda x: x if CARS['company'].value_counts()[x] >= 15 else 'Other')"
   ]
  },
  {
   "cell_type": "code",
   "execution_count": 204,
   "id": "278bf558-a396-4820-b4c0-861a2509ad48",
   "metadata": {},
   "outputs": [
    {
     "data": {
      "text/plain": [
       "company\n",
       "mercedes-benz    1506\n",
       "nissan            898\n",
       "toyota            868\n",
       "bmw               690\n",
       "land-rover        577\n",
       "ford              551\n",
       "porsche           390\n",
       "audi              381\n",
       "lexus             331\n",
       "jeep              314\n",
       "dodge             305\n",
       "chevrolet         292\n",
       "mitsubishi        287\n",
       "volkswagen        222\n",
       "hyundai           206\n",
       "rolls-royce       180\n",
       "infiniti          176\n",
       "honda             158\n",
       "bentley           144\n",
       "ferrari           135\n",
       "kia               129\n",
       "cadillac          127\n",
       "gmc               121\n",
       "Other             117\n",
       "lamborghini       108\n",
       "jaguar             96\n",
       "maserati           94\n",
       "mazda              77\n",
       "renault            74\n",
       "mini               69\n",
       "lincoln            59\n",
       "peugeot            47\n",
       "tesla              36\n",
       "aston-martin       32\n",
       "suzuki             30\n",
       "maybach            29\n",
       "mclaren            29\n",
       "volvo              26\n",
       "alfa-romeo         22\n",
       "chrysler           20\n",
       "fiat               17\n",
       "Name: count, dtype: int64"
      ]
     },
     "execution_count": 204,
     "metadata": {},
     "output_type": "execute_result"
    }
   ],
   "source": [
    "CARS['company'].value_counts()"
   ]
  },
  {
   "cell_type": "markdown",
   "id": "f34ec5b5-0a25-4d23-bdfa-3dc0c4b6538c",
   "metadata": {},
   "source": [
    "**model:**  552 different models is too many.  Clearly this would encode a lot of pricing information, but linear regression \n",
    "isn't a great tool to use it all.  Let's pick the top 20."
   ]
  },
  {
   "cell_type": "code",
   "execution_count": 206,
   "id": "7a81625a-98cf-4731-a6f1-c9ecb46c4720",
   "metadata": {},
   "outputs": [
    {
     "data": {
      "text/plain": [
       "model\n",
       "patrol               399\n",
       "s-class              269\n",
       "g-class              259\n",
       "range-rover-sport    208\n",
       "land-cruiser         200\n",
       "                    ... \n",
       "g80                    1\n",
       "plus-8                 1\n",
       "lc-500                 1\n",
       "tx5                    1\n",
       "odyssey-j              1\n",
       "Name: count, Length: 552, dtype: int64"
      ]
     },
     "execution_count": 206,
     "metadata": {},
     "output_type": "execute_result"
    }
   ],
   "source": [
    "CARS['model'].value_counts()"
   ]
  },
  {
   "cell_type": "code",
   "execution_count": 207,
   "id": "bdd7dd67-197b-465f-b2ab-12f74a0e7b03",
   "metadata": {},
   "outputs": [
    {
     "data": {
      "text/plain": [
       "count       9970\n",
       "unique       552\n",
       "top       patrol\n",
       "freq         399\n",
       "Name: model, dtype: object"
      ]
     },
     "execution_count": 207,
     "metadata": {},
     "output_type": "execute_result"
    }
   ],
   "source": [
    "CARS['model'].describe()"
   ]
  },
  {
   "cell_type": "code",
   "execution_count": 208,
   "id": "96d4b85a-4867-4098-bf79-a3cf329a44d8",
   "metadata": {},
   "outputs": [],
   "source": [
    "CARS['model'] = CARS['model'].map(lambda x: x if CARS['model'].value_counts()[x] >= 20 else 'Other')\n"
   ]
  },
  {
   "cell_type": "code",
   "execution_count": 209,
   "id": "b21d1c92-9c60-43f0-94f5-4e3efd8c5b57",
   "metadata": {},
   "outputs": [
    {
     "name": "stdout",
     "output_type": "stream",
     "text": [
      "model\n",
      "Other                2317\n",
      "patrol                399\n",
      "s-class               269\n",
      "g-class               259\n",
      "range-rover-sport     208\n",
      "                     ... \n",
      "optima                 20\n",
      "mkx                    20\n",
      "a7                     20\n",
      "armada                 20\n",
      "6                      20\n",
      "Name: count, Length: 129, dtype: int64\n"
     ]
    },
    {
     "data": {
      "text/plain": [
       "129"
      ]
     },
     "execution_count": 209,
     "metadata": {},
     "output_type": "execute_result"
    }
   ],
   "source": [
    "print(CARS['model'].value_counts())\n",
    "len(CARS['model'].value_counts())"
   ]
  },
  {
   "cell_type": "markdown",
   "id": "b7602363-d954-4272-82bf-74a82ee98926",
   "metadata": {},
   "source": [
    "**date_posted:**  This is mess.  Looking at the first 20 values, we see it's encoded in an inconsistent format. \n",
    "Sometimes it's day/month/year (in which case the year has 4 digits).  Other times is month/day/year (in which case the year has 2 digits).  \n"
   ]
  },
  {
   "cell_type": "code",
   "execution_count": 291,
   "id": "66275964-57b0-4b2b-9003-eec348b7b65c",
   "metadata": {},
   "outputs": [],
   "source": [
    "# Convert 'date_posted' to datetime with different formats\n",
    "def parse_dates(date_column):\n",
    "    return pd.to_datetime(\n",
    "        date_column, \n",
    "        format='%m/%d/%y',  # First attempt parsing as mdy with 2-digit years\n",
    "        errors='coerce'     # Invalid formats are set to NaT\n",
    "    ).fillna(\n",
    "        pd.to_datetime(date_column, format='%d/%m/%Y', errors='coerce')  # Attempt dmy with 4-digit years\n",
    "    )\n"
   ]
  },
  {
   "cell_type": "code",
   "execution_count": 293,
   "id": "ade40587-6255-425b-a561-d88743a99038",
   "metadata": {},
   "outputs": [],
   "source": [
    "CARS['new_date'] = parse_dates(CARS['date_posted'])"
   ]
  },
  {
   "cell_type": "code",
   "execution_count": 295,
   "id": "8b03fa76-d466-46ba-8bb1-c078bc2faa4d",
   "metadata": {},
   "outputs": [
    {
     "data": {
      "text/plain": [
       "0      2022-05-13\n",
       "1      2022-01-14\n",
       "2      2022-05-05\n",
       "3      2022-04-30\n",
       "4      2022-05-13\n",
       "          ...    \n",
       "9965   2021-11-18\n",
       "9966   2022-11-05\n",
       "9967   2021-12-14\n",
       "9968   2022-06-03\n",
       "9969   2021-04-12\n",
       "Name: new_date, Length: 9970, dtype: datetime64[ns]"
      ]
     },
     "execution_count": 295,
     "metadata": {},
     "output_type": "execute_result"
    }
   ],
   "source": [
    "CARS['new_date']"
   ]
  },
  {
   "cell_type": "code",
   "execution_count": 361,
   "id": "271ea445-1cc6-4c38-947a-27fb20a87031",
   "metadata": {},
   "outputs": [],
   "source": [
    "# # Add 'year' and 'month' columns\n",
    "CARS['year'] = CARS['new_date'].dt.year.astype(int)\n",
    "CARS['month'] = CARS['new_date'].dt.month_name()"
   ]
  },
  {
   "cell_type": "code",
   "execution_count": 343,
   "id": "1f8ca2a1-4ba2-42e7-824b-f8f968ae77aa",
   "metadata": {},
   "outputs": [
    {
     "data": {
      "text/plain": [
       "year\n",
       "2022    9233\n",
       "2021     714\n",
       "2020      18\n",
       "2019       3\n",
       "2018       2\n",
       "Name: count, dtype: int64"
      ]
     },
     "execution_count": 343,
     "metadata": {},
     "output_type": "execute_result"
    }
   ],
   "source": [
    "CARS['year'].value_counts()"
   ]
  },
  {
   "cell_type": "code",
   "execution_count": 349,
   "id": "009cb00e-6f9b-45e5-ae3a-e6a646cf8052",
   "metadata": {},
   "outputs": [
    {
     "data": {
      "image/png": "[encoded data removed]",
      "text/plain": [
       "<Figure size 640x480 with 1 Axes>"
      ]
     },
     "metadata": {},
     "output_type": "display_data"
    }
   ],
   "source": [
    "# # Plot log10price ~ year\n",
    "plt.scatter(CARS['year'], CARS['log10price'], color='blue')\n",
    "plt.xlabel('Year')\n",
    "plt.ylabel('log10price')\n",
    "plt.xticks(ticks=CARS['year'].unique())  # Use unique year values as ticks\n",
    "plt.grid()\n",
    "plt.show()"
   ]
  },
  {
   "cell_type": "code",
   "execution_count": 371,
   "id": "a00b5328-ae49-4fc0-a7fa-12f98a6f339f",
   "metadata": {},
   "outputs": [
    {
     "data": {
      "image/png": "[encoded data removed]",
      "text/plain": [
       "<Figure size 1200x600 with 1 Axes>"
      ]
     },
     "metadata": {},
     "output_type": "display_data"
    }
   ],
   "source": [
    "# # Plot log10price ~ year\n",
    "import seaborn as sns\n",
    "plt.figure(figsize=(12, 6))\n",
    "sns.boxplot(x='month', y='log10price', data=CARS, order=pd.date_range('2023-01-01', '2023-12-31', freq='ME').strftime('%B').tolist())\n",
    "plt.xlabel('Month')\n",
    "plt.ylabel('log10price')\n",
    "plt.title('Boxplot of log10price by Month')\n",
    "plt.xticks(rotation=45)  \n",
    "plt.show()"
   ]
  },
  {
   "cell_type": "markdown",
   "id": "f9bdaf8d-a3c9-4772-a7ff-a1140501e585",
   "metadata": {},
   "source": [
    "Our data now has no missing values, a reasonable (though large) number of levels for each categorical predictor, \n",
    "and symmetric-ish predictors (x) and response (y), so we're ready to start the model building process."
   ]
  },
  {
   "cell_type": "code",
   "execution_count": 376,
   "id": "74839da3-af4a-4fb4-ad48-01820f4a8523",
   "metadata": {},
   "outputs": [
    {
     "data": {
      "text/plain": [
       "1.0"
      ]
     },
     "execution_count": 376,
     "metadata": {},
     "output_type": "execute_result"
    }
   ],
   "source": [
    "CARS.dropna().shape[0] / CARS.shape[0]"
   ]
  },
  {
   "cell_type": "code",
   "execution_count": 392,
   "id": "5f498bc5-7b06-48ef-8d70-a4ebdb51344e",
   "metadata": {},
   "outputs": [
    {
     "name": "stdout",
     "output_type": "stream",
     "text": [
      "                body_condition    mechanical_condition seller_type body_type  \\\n",
      "count                     9970                    9970        9970      9970   \n",
      "unique                       4                       3           3        13   \n",
      "top     Perfect inside and out  Perfect inside and out      Dealer       SUV   \n",
      "freq                      9612                    9822        6762      4566   \n",
      "mean                       NaN                     NaN         NaN       NaN   \n",
      "min                        NaN                     NaN         NaN       NaN   \n",
      "25%                        NaN                     NaN         NaN       NaN   \n",
      "50%                        NaN                     NaN         NaN       NaN   \n",
      "75%                        NaN                     NaN         NaN       NaN   \n",
      "max                        NaN                     NaN         NaN       NaN   \n",
      "std                        NaN                     NaN         NaN       NaN   \n",
      "\n",
      "        no_of_cylinders       transmission_type regional_specs   horsepower  \\\n",
      "count       9970.000000                    9970           9970         9970   \n",
      "unique              NaN                       2              5           11   \n",
      "top                 NaN  Automatic Transmission      GCC Specs  200to300 HP   \n",
      "freq                NaN                    9581           7601         2432   \n",
      "mean           6.190271                     NaN            NaN          NaN   \n",
      "min            3.000000                     NaN            NaN          NaN   \n",
      "25%            4.000000                     NaN            NaN          NaN   \n",
      "50%            6.000000                     NaN            NaN          NaN   \n",
      "75%            8.000000                     NaN            NaN          NaN   \n",
      "max           12.000000                     NaN            NaN          NaN   \n",
      "std            1.969984                     NaN            NaN          NaN   \n",
      "\n",
      "       fuel_type         year  ... motors_trim        company  model  \\\n",
      "count       9970  9970.000000  ...        9970           9970   9970   \n",
      "unique         4          NaN  ...         118             41    129   \n",
      "top     Gasoline          NaN  ...       Other  mercedes-benz  Other   \n",
      "freq        9695          NaN  ...        4637           1506   2317   \n",
      "mean         NaN  2021.923069  ...         NaN            NaN    NaN   \n",
      "min          NaN  2018.000000  ...         NaN            NaN    NaN   \n",
      "25%          NaN  2022.000000  ...         NaN            NaN    NaN   \n",
      "50%          NaN  2022.000000  ...         NaN            NaN    NaN   \n",
      "75%          NaN  2022.000000  ...         NaN            NaN    NaN   \n",
      "max          NaN  2022.000000  ...         NaN            NaN    NaN   \n",
      "std          NaN     0.280791  ...         NaN            NaN    NaN   \n",
      "\n",
      "       date_posted   log10price log10kilometers    car_year1  car_year2  \\\n",
      "count         9970  9970.000000     9970.000000  9970.000000       9970   \n",
      "unique         345          NaN             NaN          NaN         22   \n",
      "top        12/5/22          NaN             NaN          NaN  2015-2016   \n",
      "freq           610          NaN             NaN          NaN        973   \n",
      "mean           NaN     4.501591        4.298026  2015.626444        NaN   \n",
      "min            NaN     3.209515        0.000000  1953.000000        NaN   \n",
      "25%            NaN     4.138934        4.364446  2014.000000        NaN   \n",
      "50%            NaN     4.448397        4.880819  2016.000000        NaN   \n",
      "75%            NaN     4.800580        5.124125  2019.000000        NaN   \n",
      "max            NaN     6.607426        6.408070  2021.000000        NaN   \n",
      "std            NaN     0.490081        1.499983     4.499686        NaN   \n",
      "\n",
      "                             new_date  month  \n",
      "count                            9970   9970  \n",
      "unique                            NaN     12  \n",
      "top                               NaN  April  \n",
      "freq                              NaN   2681  \n",
      "mean    2022-05-15 19:42:28.525576704    NaN  \n",
      "min               2018-06-10 00:00:00    NaN  \n",
      "25%               2022-03-22 00:00:00    NaN  \n",
      "50%               2022-04-26 00:00:00    NaN  \n",
      "75%               2022-08-05 00:00:00    NaN  \n",
      "max               2022-12-05 00:00:00    NaN  \n",
      "std                               NaN    NaN  \n",
      "\n",
      "[11 rows x 22 columns]\n"
     ]
    }
   ],
   "source": [
    "# CARS.value_counts()\n",
    "print(CARS.describe(include='all'))"
   ]
  },
  {
   "cell_type": "code",
   "execution_count": 452,
   "id": "7ff16ba3-2d1a-4233-a186-270c84bab94b",
   "metadata": {},
   "outputs": [],
   "source": [
    "# Specify target variable\n",
    "target = 'log10price'\n",
    "# Separate predictors and target\n",
    "X = CARS.drop(columns=[target])\n",
    "y = CARS[target]\n",
    "X = CARS.drop(columns=[target])\n"
   ]
  },
  {
   "cell_type": "code",
   "execution_count": 454,
   "id": "90e52454-7945-44a3-b445-fd68ded5c5d5",
   "metadata": {},
   "outputs": [],
   "source": [
    "# Identify numerical and categorical columns\n",
    "numerical_cols = X.select_dtypes(include=['float64', 'int64']).columns\n",
    "categorical_cols = X.select_dtypes(include=['object', 'category']).columns"
   ]
  },
  {
   "cell_type": "markdown",
   "id": "9714f092-c5b5-4cae-9da2-1d42f0be697d",
   "metadata": {},
   "source": [
    "Step 1:  split into training and holdout.  I like to do this manually and use `set.seed` to ensure reproducibility. \n",
    "Essentially, I pick the row numbers at random to figure out which rows end up in the training set and which end up in the holdout sample."
   ]
  },
  {
   "cell_type": "code",
   "execution_count": 456,
   "id": "6c2422eb-b99a-463d-908b-700a0730c9a4",
   "metadata": {},
   "outputs": [],
   "source": [
    "# Train-test split\n",
    "np.random.seed(542)\n",
    "X_train, X_test, y_train, y_test = train_test_split(X, y, test_size=0.25, random_state=42)"
   ]
  },
  {
   "cell_type": "markdown",
   "id": "291ff65c-0c4e-447b-91f8-b035c26c29dc",
   "metadata": {},
   "source": [
    "Step 2:  Using crossvalidation.  For most purposes, 5-fold crossvalidation (no repeats) is typically appropriate."
   ]
  },
  {
   "cell_type": "code",
   "execution_count": 458,
   "id": "a03aa715-3bb5-416e-a33b-5d07e385bab0",
   "metadata": {},
   "outputs": [],
   "source": [
    "# Evaluate pipeline with 5-fold cross-validation\n",
    "folds = cross_val_score(\n",
    "    model_pipeline, X_train, y_train, cv=5, scoring='neg_mean_squared_error', n_jobs=-1\n",
    ")\n"
   ]
  },
  {
   "cell_type": "code",
   "execution_count": 462,
   "id": "d82ab66e-e1fd-4063-bb9a-ac481667f4f6",
   "metadata": {},
   "outputs": [],
   "source": [
    "# Convert scores to positive MSE\n",
    "cv_mse = -folds"
   ]
  },
  {
   "cell_type": "code",
   "execution_count": 464,
   "id": "6ab6d35f-8be2-4342-9bac-9ef9dc1d4daf",
   "metadata": {},
   "outputs": [],
   "source": [
    "# Preprocessing for numerical data\n",
    "numerical_transformer = StandardScaler()\n",
    "\n",
    "# Preprocessing for categorical data\n",
    "categorical_transformer = OneHotEncoder(drop='first', handle_unknown='ignore')"
   ]
  },
  {
   "cell_type": "code",
   "execution_count": 466,
   "id": "8efed404-505e-4fac-b53c-49a7a454dc04",
   "metadata": {},
   "outputs": [],
   "source": [
    "# Combine preprocessing steps\n",
    "preprocessor = ColumnTransformer(\n",
    "    transformers=[\n",
    "        ('num', numerical_transformer, numerical_cols),\n",
    "        ('cat', categorical_transformer, categorical_cols)\n",
    "    ]\n",
    ")"
   ]
  },
  {
   "cell_type": "code",
   "execution_count": 468,
   "id": "e1f02c42-1aed-4e78-b00c-5065ca96c896",
   "metadata": {},
   "outputs": [],
   "source": [
    "# Create the pipeline with preprocessing and model\n",
    "model_pipeline = Pipeline(steps=[\n",
    "    ('preprocessor', preprocessor),\n",
    "    ('model', LinearRegression())\n",
    "])"
   ]
  },
  {
   "cell_type": "code",
   "execution_count": 470,
   "id": "231068c1-b930-492d-b3bb-a33d7e0e61d8",
   "metadata": {},
   "outputs": [
    {
     "data": {
      "text/html": [
       "<style>#sk-container-id-3 {\n",
       "  /* Definition of color scheme common for light and dark mode */\n",
       "  --sklearn-color-text: black;\n",
       "  --sklearn-color-line: gray;\n",
       "  /* Definition of color scheme for unfitted estimators */\n",
       "  --sklearn-color-unfitted-level-0: #fff5e6;\n",
       "  --sklearn-color-unfitted-level-1: #f6e4d2;\n",
       "  --sklearn-color-unfitted-level-2: #ffe0b3;\n",
       "  --sklearn-color-unfitted-level-3: chocolate;\n",
       "  /* Definition of color scheme for fitted estimators */\n",
       "  --sklearn-color-fitted-level-0: #f0f8ff;\n",
       "  --sklearn-color-fitted-level-1: #d4ebff;\n",
       "  --sklearn-color-fitted-level-2: #b3dbfd;\n",
       "  --sklearn-color-fitted-level-3: cornflowerblue;\n",
       "\n",
       "  /* Specific color for light theme */\n",
       "  --sklearn-color-text-on-default-background: var(--sg-text-color, var(--theme-code-foreground, var(--jp-content-font-color1, black)));\n",
       "  --sklearn-color-background: var(--sg-background-color, var(--theme-background, var(--jp-layout-color0, white)));\n",
       "  --sklearn-color-border-box: var(--sg-text-color, var(--theme-code-foreground, var(--jp-content-font-color1, black)));\n",
       "  --sklearn-color-icon: #696969;\n",
       "\n",
       "  @media (prefers-color-scheme: dark) {\n",
       "    /* Redefinition of color scheme for dark theme */\n",
       "    --sklearn-color-text-on-default-background: var(--sg-text-color, var(--theme-code-foreground, var(--jp-content-font-color1, white)));\n",
       "    --sklearn-color-background: var(--sg-background-color, var(--theme-background, var(--jp-layout-color0, #111)));\n",
       "    --sklearn-color-border-box: var(--sg-text-color, var(--theme-code-foreground, var(--jp-content-font-color1, white)));\n",
       "    --sklearn-color-icon: #878787;\n",
       "  }\n",
       "}\n",
       "\n",
       "#sk-container-id-3 {\n",
       "  color: var(--sklearn-color-text);\n",
       "}\n",
       "\n",
       "#sk-container-id-3 pre {\n",
       "  padding: 0;\n",
       "}\n",
       "\n",
       "#sk-container-id-3 input.sk-hidden--visually {\n",
       "  border: 0;\n",
       "  clip: rect(1px 1px 1px 1px);\n",
       "  clip: rect(1px, 1px, 1px, 1px);\n",
       "  height: 1px;\n",
       "  margin: -1px;\n",
       "  overflow: hidden;\n",
       "  padding: 0;\n",
       "  position: absolute;\n",
       "  width: 1px;\n",
       "}\n",
       "\n",
       "#sk-container-id-3 div.sk-dashed-wrapped {\n",
       "  border: 1px dashed var(--sklearn-color-line);\n",
       "  margin: 0 0.4em 0.5em 0.4em;\n",
       "  box-sizing: border-box;\n",
       "  padding-bottom: 0.4em;\n",
       "  background-color: var(--sklearn-color-background);\n",
       "}\n",
       "\n",
       "#sk-container-id-3 div.sk-container {\n",
       "  /* jupyter's `normalize.less` sets `[hidden] { display: none; }`\n",
       "     but bootstrap.min.css set `[hidden] { display: none !important; }`\n",
       "     so we also need the `!important` here to be able to override the\n",
       "     default hidden behavior on the sphinx rendered scikit-learn.org.\n",
       "     See: https://github.com/scikit-learn/scikit-learn/issues/21755 */\n",
       "  display: inline-block !important;\n",
       "  position: relative;\n",
       "}\n",
       "\n",
       "#sk-container-id-3 div.sk-text-repr-fallback {\n",
       "  display: none;\n",
       "}\n",
       "\n",
       "div.sk-parallel-item,\n",
       "div.sk-serial,\n",
       "div.sk-item {\n",
       "  /* draw centered vertical line to link estimators */\n",
       "  background-image: linear-gradient(var(--sklearn-color-text-on-default-background), var(--sklearn-color-text-on-default-background));\n",
       "  background-size: 2px 100%;\n",
       "  background-repeat: no-repeat;\n",
       "  background-position: center center;\n",
       "}\n",
       "\n",
       "/* Parallel-specific style estimator block */\n",
       "\n",
       "#sk-container-id-3 div.sk-parallel-item::after {\n",
       "  content: \"\";\n",
       "  width: 100%;\n",
       "  border-bottom: 2px solid var(--sklearn-color-text-on-default-background);\n",
       "  flex-grow: 1;\n",
       "}\n",
       "\n",
       "#sk-container-id-3 div.sk-parallel {\n",
       "  display: flex;\n",
       "  align-items: stretch;\n",
       "  justify-content: center;\n",
       "  background-color: var(--sklearn-color-background);\n",
       "  position: relative;\n",
       "}\n",
       "\n",
       "#sk-container-id-3 div.sk-parallel-item {\n",
       "  display: flex;\n",
       "  flex-direction: column;\n",
       "}\n",
       "\n",
       "#sk-container-id-3 div.sk-parallel-item:first-child::after {\n",
       "  align-self: flex-end;\n",
       "  width: 50%;\n",
       "}\n",
       "\n",
       "#sk-container-id-3 div.sk-parallel-item:last-child::after {\n",
       "  align-self: flex-start;\n",
       "  width: 50%;\n",
       "}\n",
       "\n",
       "#sk-container-id-3 div.sk-parallel-item:only-child::after {\n",
       "  width: 0;\n",
       "}\n",
       "\n",
       "/* Serial-specific style estimator block */\n",
       "\n",
       "#sk-container-id-3 div.sk-serial {\n",
       "  display: flex;\n",
       "  flex-direction: column;\n",
       "  align-items: center;\n",
       "  background-color: var(--sklearn-color-background);\n",
       "  padding-right: 1em;\n",
       "  padding-left: 1em;\n",
       "}\n",
       "\n",
       "\n",
       "/* Toggleable style: style used for estimator/Pipeline/ColumnTransformer box that is\n",
       "clickable and can be expanded/collapsed.\n",
       "- Pipeline and ColumnTransformer use this feature and define the default style\n",
       "- Estimators will overwrite some part of the style using the `sk-estimator` class\n",
       "*/\n",
       "\n",
       "/* Pipeline and ColumnTransformer style (default) */\n",
       "\n",
       "#sk-container-id-3 div.sk-toggleable {\n",
       "  /* Default theme specific background. It is overwritten whether we have a\n",
       "  specific estimator or a Pipeline/ColumnTransformer */\n",
       "  background-color: var(--sklearn-color-background);\n",
       "}\n",
       "\n",
       "/* Toggleable label */\n",
       "#sk-container-id-3 label.sk-toggleable__label {\n",
       "  cursor: pointer;\n",
       "  display: block;\n",
       "  width: 100%;\n",
       "  margin-bottom: 0;\n",
       "  padding: 0.5em;\n",
       "  box-sizing: border-box;\n",
       "  text-align: center;\n",
       "}\n",
       "\n",
       "#sk-container-id-3 label.sk-toggleable__label-arrow:before {\n",
       "  /* Arrow on the left of the label */\n",
       "  content: \"▸\";\n",
       "  float: left;\n",
       "  margin-right: 0.25em;\n",
       "  color: var(--sklearn-color-icon);\n",
       "}\n",
       "\n",
       "#sk-container-id-3 label.sk-toggleable__label-arrow:hover:before {\n",
       "  color: var(--sklearn-color-text);\n",
       "}\n",
       "\n",
       "/* Toggleable content - dropdown */\n",
       "\n",
       "#sk-container-id-3 div.sk-toggleable__content {\n",
       "  max-height: 0;\n",
       "  max-width: 0;\n",
       "  overflow: hidden;\n",
       "  text-align: left;\n",
       "  /* unfitted */\n",
       "  background-color: var(--sklearn-color-unfitted-level-0);\n",
       "}\n",
       "\n",
       "#sk-container-id-3 div.sk-toggleable__content.fitted {\n",
       "  /* fitted */\n",
       "  background-color: var(--sklearn-color-fitted-level-0);\n",
       "}\n",
       "\n",
       "#sk-container-id-3 div.sk-toggleable__content pre {\n",
       "  margin: 0.2em;\n",
       "  border-radius: 0.25em;\n",
       "  color: var(--sklearn-color-text);\n",
       "  /* unfitted */\n",
       "  background-color: var(--sklearn-color-unfitted-level-0);\n",
       "}\n",
       "\n",
       "#sk-container-id-3 div.sk-toggleable__content.fitted pre {\n",
       "  /* unfitted */\n",
       "  background-color: var(--sklearn-color-fitted-level-0);\n",
       "}\n",
       "\n",
       "#sk-container-id-3 input.sk-toggleable__control:checked~div.sk-toggleable__content {\n",
       "  /* Expand drop-down */\n",
       "  max-height: 200px;\n",
       "  max-width: 100%;\n",
       "  overflow: auto;\n",
       "}\n",
       "\n",
       "#sk-container-id-3 input.sk-toggleable__control:checked~label.sk-toggleable__label-arrow:before {\n",
       "  content: \"▾\";\n",
       "}\n",
       "\n",
       "/* Pipeline/ColumnTransformer-specific style */\n",
       "\n",
       "#sk-container-id-3 div.sk-label input.sk-toggleable__control:checked~label.sk-toggleable__label {\n",
       "  color: var(--sklearn-color-text);\n",
       "  background-color: var(--sklearn-color-unfitted-level-2);\n",
       "}\n",
       "\n",
       "#sk-container-id-3 div.sk-label.fitted input.sk-toggleable__control:checked~label.sk-toggleable__label {\n",
       "  background-color: var(--sklearn-color-fitted-level-2);\n",
       "}\n",
       "\n",
       "/* Estimator-specific style */\n",
       "\n",
       "/* Colorize estimator box */\n",
       "#sk-container-id-3 div.sk-estimator input.sk-toggleable__control:checked~label.sk-toggleable__label {\n",
       "  /* unfitted */\n",
       "  background-color: var(--sklearn-color-unfitted-level-2);\n",
       "}\n",
       "\n",
       "#sk-container-id-3 div.sk-estimator.fitted input.sk-toggleable__control:checked~label.sk-toggleable__label {\n",
       "  /* fitted */\n",
       "  background-color: var(--sklearn-color-fitted-level-2);\n",
       "}\n",
       "\n",
       "#sk-container-id-3 div.sk-label label.sk-toggleable__label,\n",
       "#sk-container-id-3 div.sk-label label {\n",
       "  /* The background is the default theme color */\n",
       "  color: var(--sklearn-color-text-on-default-background);\n",
       "}\n",
       "\n",
       "/* On hover, darken the color of the background */\n",
       "#sk-container-id-3 div.sk-label:hover label.sk-toggleable__label {\n",
       "  color: var(--sklearn-color-text);\n",
       "  background-color: var(--sklearn-color-unfitted-level-2);\n",
       "}\n",
       "\n",
       "/* Label box, darken color on hover, fitted */\n",
       "#sk-container-id-3 div.sk-label.fitted:hover label.sk-toggleable__label.fitted {\n",
       "  color: var(--sklearn-color-text);\n",
       "  background-color: var(--sklearn-color-fitted-level-2);\n",
       "}\n",
       "\n",
       "/* Estimator label */\n",
       "\n",
       "#sk-container-id-3 div.sk-label label {\n",
       "  font-family: monospace;\n",
       "  font-weight: bold;\n",
       "  display: inline-block;\n",
       "  line-height: 1.2em;\n",
       "}\n",
       "\n",
       "#sk-container-id-3 div.sk-label-container {\n",
       "  text-align: center;\n",
       "}\n",
       "\n",
       "/* Estimator-specific */\n",
       "#sk-container-id-3 div.sk-estimator {\n",
       "  font-family: monospace;\n",
       "  border: 1px dotted var(--sklearn-color-border-box);\n",
       "  border-radius: 0.25em;\n",
       "  box-sizing: border-box;\n",
       "  margin-bottom: 0.5em;\n",
       "  /* unfitted */\n",
       "  background-color: var(--sklearn-color-unfitted-level-0);\n",
       "}\n",
       "\n",
       "#sk-container-id-3 div.sk-estimator.fitted {\n",
       "  /* fitted */\n",
       "  background-color: var(--sklearn-color-fitted-level-0);\n",
       "}\n",
       "\n",
       "/* on hover */\n",
       "#sk-container-id-3 div.sk-estimator:hover {\n",
       "  /* unfitted */\n",
       "  background-color: var(--sklearn-color-unfitted-level-2);\n",
       "}\n",
       "\n",
       "#sk-container-id-3 div.sk-estimator.fitted:hover {\n",
       "  /* fitted */\n",
       "  background-color: var(--sklearn-color-fitted-level-2);\n",
       "}\n",
       "\n",
       "/* Specification for estimator info (e.g. \"i\" and \"?\") */\n",
       "\n",
       "/* Common style for \"i\" and \"?\" */\n",
       "\n",
       ".sk-estimator-doc-link,\n",
       "a:link.sk-estimator-doc-link,\n",
       "a:visited.sk-estimator-doc-link {\n",
       "  float: right;\n",
       "  font-size: smaller;\n",
       "  line-height: 1em;\n",
       "  font-family: monospace;\n",
       "  background-color: var(--sklearn-color-background);\n",
       "  border-radius: 1em;\n",
       "  height: 1em;\n",
       "  width: 1em;\n",
       "  text-decoration: none !important;\n",
       "  margin-left: 1ex;\n",
       "  /* unfitted */\n",
       "  border: var(--sklearn-color-unfitted-level-1) 1pt solid;\n",
       "  color: var(--sklearn-color-unfitted-level-1);\n",
       "}\n",
       "\n",
       ".sk-estimator-doc-link.fitted,\n",
       "a:link.sk-estimator-doc-link.fitted,\n",
       "a:visited.sk-estimator-doc-link.fitted {\n",
       "  /* fitted */\n",
       "  border: var(--sklearn-color-fitted-level-1) 1pt solid;\n",
       "  color: var(--sklearn-color-fitted-level-1);\n",
       "}\n",
       "\n",
       "/* On hover */\n",
       "div.sk-estimator:hover .sk-estimator-doc-link:hover,\n",
       ".sk-estimator-doc-link:hover,\n",
       "div.sk-label-container:hover .sk-estimator-doc-link:hover,\n",
       ".sk-estimator-doc-link:hover {\n",
       "  /* unfitted */\n",
       "  background-color: var(--sklearn-color-unfitted-level-3);\n",
       "  color: var(--sklearn-color-background);\n",
       "  text-decoration: none;\n",
       "}\n",
       "\n",
       "div.sk-estimator.fitted:hover .sk-estimator-doc-link.fitted:hover,\n",
       ".sk-estimator-doc-link.fitted:hover,\n",
       "div.sk-label-container:hover .sk-estimator-doc-link.fitted:hover,\n",
       ".sk-estimator-doc-link.fitted:hover {\n",
       "  /* fitted */\n",
       "  background-color: var(--sklearn-color-fitted-level-3);\n",
       "  color: var(--sklearn-color-background);\n",
       "  text-decoration: none;\n",
       "}\n",
       "\n",
       "/* Span, style for the box shown on hovering the info icon */\n",
       ".sk-estimator-doc-link span {\n",
       "  display: none;\n",
       "  z-index: 9999;\n",
       "  position: relative;\n",
       "  font-weight: normal;\n",
       "  right: .2ex;\n",
       "  padding: .5ex;\n",
       "  margin: .5ex;\n",
       "  width: min-content;\n",
       "  min-width: 20ex;\n",
       "  max-width: 50ex;\n",
       "  color: var(--sklearn-color-text);\n",
       "  box-shadow: 2pt 2pt 4pt #999;\n",
       "  /* unfitted */\n",
       "  background: var(--sklearn-color-unfitted-level-0);\n",
       "  border: .5pt solid var(--sklearn-color-unfitted-level-3);\n",
       "}\n",
       "\n",
       ".sk-estimator-doc-link.fitted span {\n",
       "  /* fitted */\n",
       "  background: var(--sklearn-color-fitted-level-0);\n",
       "  border: var(--sklearn-color-fitted-level-3);\n",
       "}\n",
       "\n",
       ".sk-estimator-doc-link:hover span {\n",
       "  display: block;\n",
       "}\n",
       "\n",
       "/* \"?\"-specific style due to the `<a>` HTML tag */\n",
       "\n",
       "#sk-container-id-3 a.estimator_doc_link {\n",
       "  float: right;\n",
       "  font-size: 1rem;\n",
       "  line-height: 1em;\n",
       "  font-family: monospace;\n",
       "  background-color: var(--sklearn-color-background);\n",
       "  border-radius: 1rem;\n",
       "  height: 1rem;\n",
       "  width: 1rem;\n",
       "  text-decoration: none;\n",
       "  /* unfitted */\n",
       "  color: var(--sklearn-color-unfitted-level-1);\n",
       "  border: var(--sklearn-color-unfitted-level-1) 1pt solid;\n",
       "}\n",
       "\n",
       "#sk-container-id-3 a.estimator_doc_link.fitted {\n",
       "  /* fitted */\n",
       "  border: var(--sklearn-color-fitted-level-1) 1pt solid;\n",
       "  color: var(--sklearn-color-fitted-level-1);\n",
       "}\n",
       "\n",
       "/* On hover */\n",
       "#sk-container-id-3 a.estimator_doc_link:hover {\n",
       "  /* unfitted */\n",
       "  background-color: var(--sklearn-color-unfitted-level-3);\n",
       "  color: var(--sklearn-color-background);\n",
       "  text-decoration: none;\n",
       "}\n",
       "\n",
       "#sk-container-id-3 a.estimator_doc_link.fitted:hover {\n",
       "  /* fitted */\n",
       "  background-color: var(--sklearn-color-fitted-level-3);\n",
       "}\n",
       "</style><div id=\"sk-container-id-3\" class=\"sk-top-container\"><div class=\"sk-text-repr-fallback\"><pre>Pipeline(steps=[(&#x27;preprocessor&#x27;,\n",
       "                 ColumnTransformer(transformers=[(&#x27;num&#x27;, StandardScaler(),\n",
       "                                                  Index([&#x27;no_of_cylinders&#x27;, &#x27;log10kilometers&#x27;, &#x27;car_year1&#x27;], dtype=&#x27;object&#x27;)),\n",
       "                                                 (&#x27;cat&#x27;,\n",
       "                                                  OneHotEncoder(drop=&#x27;first&#x27;,\n",
       "                                                                handle_unknown=&#x27;ignore&#x27;),\n",
       "                                                  Index([&#x27;body_condition&#x27;, &#x27;mechanical_condition&#x27;, &#x27;seller_type&#x27;, &#x27;body_type&#x27;,\n",
       "       &#x27;transmission_type&#x27;, &#x27;regional_specs&#x27;, &#x27;horsepower&#x27;, &#x27;fuel_type&#x27;,\n",
       "       &#x27;color&#x27;, &#x27;emirate&#x27;, &#x27;motors_trim&#x27;, &#x27;company&#x27;, &#x27;model&#x27;, &#x27;date_posted&#x27;,\n",
       "       &#x27;car_year2&#x27;, &#x27;month&#x27;],\n",
       "      dtype=&#x27;object&#x27;))])),\n",
       "                (&#x27;model&#x27;, LinearRegression())])</pre><b>In a Jupyter environment, please rerun this cell to show the HTML representation or trust the notebook. <br />On GitHub, the HTML representation is unable to render, please try loading this page with nbviewer.org.</b></div><div class=\"sk-container\" hidden><div class=\"sk-item sk-dashed-wrapped\"><div class=\"sk-label-container\"><div class=\"sk-label fitted sk-toggleable\"><input class=\"sk-toggleable__control sk-hidden--visually\" id=\"sk-estimator-id-15\" type=\"checkbox\" ><label for=\"sk-estimator-id-15\" class=\"sk-toggleable__label fitted sk-toggleable__label-arrow fitted\">&nbsp;&nbsp;Pipeline<a class=\"sk-estimator-doc-link fitted\" rel=\"noreferrer\" target=\"_blank\" href=\"https://scikit-learn.org/1.4/modules/generated/sklearn.pipeline.Pipeline.html\">?<span>Documentation for Pipeline</span></a><span class=\"sk-estimator-doc-link fitted\">i<span>Fitted</span></span></label><div class=\"sk-toggleable__content fitted\"><pre>Pipeline(steps=[(&#x27;preprocessor&#x27;,\n",
       "                 ColumnTransformer(transformers=[(&#x27;num&#x27;, StandardScaler(),\n",
       "                                                  Index([&#x27;no_of_cylinders&#x27;, &#x27;log10kilometers&#x27;, &#x27;car_year1&#x27;], dtype=&#x27;object&#x27;)),\n",
       "                                                 (&#x27;cat&#x27;,\n",
       "                                                  OneHotEncoder(drop=&#x27;first&#x27;,\n",
       "                                                                handle_unknown=&#x27;ignore&#x27;),\n",
       "                                                  Index([&#x27;body_condition&#x27;, &#x27;mechanical_condition&#x27;, &#x27;seller_type&#x27;, &#x27;body_type&#x27;,\n",
       "       &#x27;transmission_type&#x27;, &#x27;regional_specs&#x27;, &#x27;horsepower&#x27;, &#x27;fuel_type&#x27;,\n",
       "       &#x27;color&#x27;, &#x27;emirate&#x27;, &#x27;motors_trim&#x27;, &#x27;company&#x27;, &#x27;model&#x27;, &#x27;date_posted&#x27;,\n",
       "       &#x27;car_year2&#x27;, &#x27;month&#x27;],\n",
       "      dtype=&#x27;object&#x27;))])),\n",
       "                (&#x27;model&#x27;, LinearRegression())])</pre></div> </div></div><div class=\"sk-serial\"><div class=\"sk-item sk-dashed-wrapped\"><div class=\"sk-label-container\"><div class=\"sk-label fitted sk-toggleable\"><input class=\"sk-toggleable__control sk-hidden--visually\" id=\"sk-estimator-id-16\" type=\"checkbox\" ><label for=\"sk-estimator-id-16\" class=\"sk-toggleable__label fitted sk-toggleable__label-arrow fitted\">&nbsp;preprocessor: ColumnTransformer<a class=\"sk-estimator-doc-link fitted\" rel=\"noreferrer\" target=\"_blank\" href=\"https://scikit-learn.org/1.4/modules/generated/sklearn.compose.ColumnTransformer.html\">?<span>Documentation for preprocessor: ColumnTransformer</span></a></label><div class=\"sk-toggleable__content fitted\"><pre>ColumnTransformer(transformers=[(&#x27;num&#x27;, StandardScaler(),\n",
       "                                 Index([&#x27;no_of_cylinders&#x27;, &#x27;log10kilometers&#x27;, &#x27;car_year1&#x27;], dtype=&#x27;object&#x27;)),\n",
       "                                (&#x27;cat&#x27;,\n",
       "                                 OneHotEncoder(drop=&#x27;first&#x27;,\n",
       "                                               handle_unknown=&#x27;ignore&#x27;),\n",
       "                                 Index([&#x27;body_condition&#x27;, &#x27;mechanical_condition&#x27;, &#x27;seller_type&#x27;, &#x27;body_type&#x27;,\n",
       "       &#x27;transmission_type&#x27;, &#x27;regional_specs&#x27;, &#x27;horsepower&#x27;, &#x27;fuel_type&#x27;,\n",
       "       &#x27;color&#x27;, &#x27;emirate&#x27;, &#x27;motors_trim&#x27;, &#x27;company&#x27;, &#x27;model&#x27;, &#x27;date_posted&#x27;,\n",
       "       &#x27;car_year2&#x27;, &#x27;month&#x27;],\n",
       "      dtype=&#x27;object&#x27;))])</pre></div> </div></div><div class=\"sk-parallel\"><div class=\"sk-parallel-item\"><div class=\"sk-item\"><div class=\"sk-label-container\"><div class=\"sk-label fitted sk-toggleable\"><input class=\"sk-toggleable__control sk-hidden--visually\" id=\"sk-estimator-id-17\" type=\"checkbox\" ><label for=\"sk-estimator-id-17\" class=\"sk-toggleable__label fitted sk-toggleable__label-arrow fitted\">num</label><div class=\"sk-toggleable__content fitted\"><pre>Index([&#x27;no_of_cylinders&#x27;, &#x27;log10kilometers&#x27;, &#x27;car_year1&#x27;], dtype=&#x27;object&#x27;)</pre></div> </div></div><div class=\"sk-serial\"><div class=\"sk-item\"><div class=\"sk-estimator fitted sk-toggleable\"><input class=\"sk-toggleable__control sk-hidden--visually\" id=\"sk-estimator-id-18\" type=\"checkbox\" ><label for=\"sk-estimator-id-18\" class=\"sk-toggleable__label fitted sk-toggleable__label-arrow fitted\">&nbsp;StandardScaler<a class=\"sk-estimator-doc-link fitted\" rel=\"noreferrer\" target=\"_blank\" href=\"https://scikit-learn.org/1.4/modules/generated/sklearn.preprocessing.StandardScaler.html\">?<span>Documentation for StandardScaler</span></a></label><div class=\"sk-toggleable__content fitted\"><pre>StandardScaler()</pre></div> </div></div></div></div></div><div class=\"sk-parallel-item\"><div class=\"sk-item\"><div class=\"sk-label-container\"><div class=\"sk-label fitted sk-toggleable\"><input class=\"sk-toggleable__control sk-hidden--visually\" id=\"sk-estimator-id-19\" type=\"checkbox\" ><label for=\"sk-estimator-id-19\" class=\"sk-toggleable__label fitted sk-toggleable__label-arrow fitted\">cat</label><div class=\"sk-toggleable__content fitted\"><pre>Index([&#x27;body_condition&#x27;, &#x27;mechanical_condition&#x27;, &#x27;seller_type&#x27;, &#x27;body_type&#x27;,\n",
       "       &#x27;transmission_type&#x27;, &#x27;regional_specs&#x27;, &#x27;horsepower&#x27;, &#x27;fuel_type&#x27;,\n",
       "       &#x27;color&#x27;, &#x27;emirate&#x27;, &#x27;motors_trim&#x27;, &#x27;company&#x27;, &#x27;model&#x27;, &#x27;date_posted&#x27;,\n",
       "       &#x27;car_year2&#x27;, &#x27;month&#x27;],\n",
       "      dtype=&#x27;object&#x27;)</pre></div> </div></div><div class=\"sk-serial\"><div class=\"sk-item\"><div class=\"sk-estimator fitted sk-toggleable\"><input class=\"sk-toggleable__control sk-hidden--visually\" id=\"sk-estimator-id-20\" type=\"checkbox\" ><label for=\"sk-estimator-id-20\" class=\"sk-toggleable__label fitted sk-toggleable__label-arrow fitted\">&nbsp;OneHotEncoder<a class=\"sk-estimator-doc-link fitted\" rel=\"noreferrer\" target=\"_blank\" href=\"https://scikit-learn.org/1.4/modules/generated/sklearn.preprocessing.OneHotEncoder.html\">?<span>Documentation for OneHotEncoder</span></a></label><div class=\"sk-toggleable__content fitted\"><pre>OneHotEncoder(drop=&#x27;first&#x27;, handle_unknown=&#x27;ignore&#x27;)</pre></div> </div></div></div></div></div></div></div><div class=\"sk-item\"><div class=\"sk-estimator fitted sk-toggleable\"><input class=\"sk-toggleable__control sk-hidden--visually\" id=\"sk-estimator-id-21\" type=\"checkbox\" ><label for=\"sk-estimator-id-21\" class=\"sk-toggleable__label fitted sk-toggleable__label-arrow fitted\">&nbsp;LinearRegression<a class=\"sk-estimator-doc-link fitted\" rel=\"noreferrer\" target=\"_blank\" href=\"https://scikit-learn.org/1.4/modules/generated/sklearn.linear_model.LinearRegression.html\">?<span>Documentation for LinearRegression</span></a></label><div class=\"sk-toggleable__content fitted\"><pre>LinearRegression()</pre></div> </div></div></div></div></div></div>"
      ],
      "text/plain": [
       "Pipeline(steps=[('preprocessor',\n",
       "                 ColumnTransformer(transformers=[('num', StandardScaler(),\n",
       "                                                  Index(['no_of_cylinders', 'log10kilometers', 'car_year1'], dtype='object')),\n",
       "                                                 ('cat',\n",
       "                                                  OneHotEncoder(drop='first',\n",
       "                                                                handle_unknown='ignore'),\n",
       "                                                  Index(['body_condition', 'mechanical_condition', 'seller_type', 'body_type',\n",
       "       'transmission_type', 'regional_specs', 'horsepower', 'fuel_type',\n",
       "       'color', 'emirate', 'motors_trim', 'company', 'model', 'date_posted',\n",
       "       'car_year2', 'month'],\n",
       "      dtype='object'))])),\n",
       "                ('model', LinearRegression())])"
      ]
     },
     "execution_count": 470,
     "metadata": {},
     "output_type": "execute_result"
    }
   ],
   "source": [
    "# Fit the model\n",
    "model_pipeline.fit(X_train, y_train)"
   ]
  },
  {
   "cell_type": "code",
   "execution_count": 474,
   "id": "61f0532a-8066-45f8-a656-a635874320ef",
   "metadata": {},
   "outputs": [
    {
     "name": "stdout",
     "output_type": "stream",
     "text": [
      "Mean Squared Error: 0.019580601918962562\n"
     ]
    }
   ],
   "source": [
    "# Evaluate the model\n",
    "mse = mean_squared_error(y_test, y_pred)\n",
    "print(\"Mean Squared Error:\", mse)"
   ]
  },
  {
   "cell_type": "code",
   "execution_count": null,
   "id": "7973a78f-d7d1-4d44-b261-1dbe8a398707",
   "metadata": {},
   "outputs": [],
   "source": []
  }
 ],
 "metadata": {
  "kernelspec": {
   "display_name": "Python 3 (ipykernel)",
   "language": "python",
   "name": "python3"
  },
  "language_info": {
   "codemirror_mode": {
    "name": "ipython",
    "version": 3
   },
   "file_extension": ".py",
   "mimetype": "text/x-python",
   "name": "python",
   "nbconvert_exporter": "python",
   "pygments_lexer": "ipython3",
   "version": "3.12.3"
  }
 },
 "nbformat": 4,
 "nbformat_minor": 5
}
